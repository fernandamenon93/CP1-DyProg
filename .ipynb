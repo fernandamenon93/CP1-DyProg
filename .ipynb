{
 "cells": [
  {
   "cell_type": "code",
   "execution_count": null,
   "metadata": {},
   "outputs": [],
   "source": [
    "import time\n",
    "import sys\n",
    "\n",
    "# Tarefa 1.1\n",
    "# Distância de Manhattan(RA ÍMPAR = 13 pontos)\n",
    "def manhattan_distance(point):\n",
    "    return abs(point[0]) + abs(point[1])\n",
    "\n",
    "def quick_sort(arr, key):\n",
    "    if len(arr) <= 1:\n",
    "        return arr\n",
    "    pivot = arr[len(arr) // 2]\n",
    "    left = [x for x in arr if key(x) < key(pivot)]\n",
    "    middle = [x for x in arr if key(x) == key(pivot)]\n",
    "    right = [x for x in arr if key(x) > key(pivot)]\n",
    "    return quick_sort(left, key) + middle + quick_sort(right, key)\n",
    "\n",
    "def merge_sort(arr, key):\n",
    "    if len(arr) <= 1:\n",
    "        return arr\n",
    "    mid = len(arr) // 2\n",
    "    left = merge_sort(arr[:mid], key)\n",
    "    right = merge_sort(arr[mid:], key)\n",
    "    return merge(left, right, key)\n",
    "\n",
    "def merge(left, right, key):\n",
    "    result = []\n",
    "    while left and right:\n",
    "        if key(left[0]) <= key(right[0]):\n",
    "            result.append(left.pop(0))\n",
    "        else:\n",
    "            result.append(right.pop(0))\n",
    "    return result + left + right\n",
    "\n",
    "# Lista  RA ÍMPAR (13 pontos)\n",
    "pontos = [(3, 4), (-1, -2), (5, 0), (0, 0), (-3, -4), (2, 2), (-2, 3), (4, -1), (-5, 1), (1, -1), (6, -2), (-4, 3), (0, 5)]"
   ]
  },
  {
   "cell_type": "code",
   "execution_count": 2,
   "metadata": {},
   "outputs": [],
   "source": [
    "# Tarefa 1.2\n",
    "# RA ÍMPAR\n",
    "palavras = [\"melao\", \"bistro\", \"cereja\", \"abacaxi\", \"misto\", \"bolo de sorvete\", \"mingau\", \"cerveja\", \"melaço\", \"pera\", \"biscoito\", \"palito de chocolate\"]\n",
    "prioridade = {'a': 1, 'b': 2, 'c': 3, 'e': 4, 'h': 5, 'l': 6, 'm': 7, 'p': 8, 'r': 9, 'y': 10}\n",
    "\n",
    "def prioridade_palavra(palavra):\n",
    "    return [prioridade.get(char, float('inf')) for char in palavra]"
   ]
  },
  {
   "cell_type": "code",
   "execution_count": 8,
   "metadata": {},
   "outputs": [
    {
     "name": "stdout",
     "output_type": "stream",
     "text": [
      "\n",
      "Ordenação de pontos - Distância de Manhattan :\n",
      "Quick Sort: [(0, 0), (1, -1), (-1, -2), (2, 2), (5, 0), (-2, 3), (4, -1), (0, 5), (-5, 1), (3, 4), (-3, -4), (-4, 3), (6, -2)] (0.000000 seg, 160 bytes)\n",
      "Merge Sort: [(0, 0), (1, -1), (-1, -2), (2, 2), (5, 0), (-2, 3), (4, -1), (0, 5), (-5, 1), (3, 4), (-3, -4), (-4, 3), (6, -2)] (0.000000 seg, 160 bytes)\n"
     ]
    }
   ],
   "source": [
    "# Tarefa 2.1\n",
    "# Medição de desempenho\n",
    "start = time.time()\n",
    "quick_sorted = quick_sort(pontos, manhattan_distance)\n",
    "quick_time = time.time() - start\n",
    "quick_memory = sys.getsizeof(quick_sorted)\n",
    "\n",
    "start = time.time()\n",
    "merge_sorted = merge_sort(pontos, manhattan_distance)\n",
    "merge_time = time.time() - start\n",
    "merge_memory = sys.getsizeof(merge_sorted)\n",
    "\n",
    "print(\"\\nOrdenação de pontos - Distância de Manhattan :\")\n",
    "print(f\"Quick Sort: {quick_sorted} ({quick_time:.6f} seg, {quick_memory} bytes)\")\n",
    "print(f\"Merge Sort: {merge_sorted} ({merge_time:.6f} seg, {merge_memory} bytes)\")\n"
   ]
  },
  {
   "cell_type": "code",
   "execution_count": 12,
   "metadata": {},
   "outputs": [
    {
     "name": "stdout",
     "output_type": "stream",
     "text": [
      "\n",
      "Ordenação de Palavras - Prioridade de Caracteres :\n",
      "Quick Sort: ['abacaxi', 'bolo de sorvete', 'biscoito', 'bistro', 'cereja', 'cerveja', 'melao', 'melaço', 'mingau', 'misto', 'palito de chocolate', 'pera'] (0.000000 seg, 152 bytes)\n",
      "Merge Sort: ['abacaxi', 'bolo de sorvete', 'biscoito', 'bistro', 'cereja', 'cerveja', 'melao', 'melaço', 'mingau', 'misto', 'palito de chocolate', 'pera'] (0.000000 seg, 152 bytes)\n",
      "\n",
      "Comparação de desempenho para ordenação de pontos:\n",
      "Quick Sort - Tempo: 0.000000 segundos \n",
      "Memória: 160 bytes\n",
      "Merge Sort - Tempo: 0.000000 segundos \n",
      "Memória: 160 bytes\n",
      "\n",
      "Comparação de desempenho da ordenação de palavras:\n",
      "Quick Sort - Tempo: 0.000000 segundos \n",
      "Memória: 152 bytes\n",
      "Merge Sort - Tempo: 0.000000 segundos \n",
      "Memória: 152 bytes\n"
     ]
    }
   ],
   "source": [
    "# Tarefa 2.2\n",
    "# Medição de desempenho\n",
    "start = time.time()\n",
    "quick_sorted_palavras = quick_sort(palavras, prioridade_palavra)\n",
    "quick_time_palavras = time.time() - start\n",
    "quick_memory_palavras = sys.getsizeof(quick_sorted_palavras)\n",
    "\n",
    "start = time.time()\n",
    "merge_sorted_palavras = merge_sort(palavras, prioridade_palavra)\n",
    "merge_time_palavras = time.time() - start\n",
    "merge_memory_palavras = sys.getsizeof(merge_sorted_palavras)\n",
    "\n",
    "# Resultados\n",
    "print(\"\\nOrdenação de Palavras - Prioridade de Caracteres :\")\n",
    "print(f\"Quick Sort: {quick_sorted_palavras} ({quick_time_palavras:.6f} seg, {quick_memory_palavras} bytes)\")\n",
    "print(f\"Merge Sort: {merge_sorted_palavras} ({merge_time_palavras:.6f} seg, {merge_memory_palavras} bytes)\")\n",
    "\n",
    "# Comparação do desempenho\n",
    "print(\"\\nComparação de desempenho para ordenação de pontos:\")\n",
    "print(f\"Quick Sort - Tempo: {quick_time:.6f} segundos \\nMemória: {quick_memory} bytes\")\n",
    "print(f\"Merge Sort - Tempo: {merge_time:.6f} segundos \\nMemória: {merge_memory} bytes\")\n",
    "\n",
    "# Comparação do desempenho \n",
    "print(\"\\nComparação de desempenho da ordenação de palavras:\")\n",
    "print(f\"Quick Sort - Tempo: {quick_time_palavras:.6f} segundos \\nMemória: {quick_memory_palavras} bytes\")\n",
    "print(f\"Merge Sort - Tempo: {merge_time_palavras:.6f} segundos \\nMemória: {merge_memory_palavras} bytes\")"
   ]
  }
 ],
 "metadata": {
  "kernelspec": {
   "display_name": "Python 3",
   "language": "python",
   "name": "python3"
  },
  "language_info": {
   "codemirror_mode": {
    "name": "ipython",
    "version": 3
   },
   "file_extension": ".py",
   "mimetype": "text/x-python",
   "name": "python",
   "nbconvert_exporter": "python",
   "pygments_lexer": "ipython3",
   "version": "3.12.2"
  }
 },
 "nbformat": 4,
 "nbformat_minor": 2
}
